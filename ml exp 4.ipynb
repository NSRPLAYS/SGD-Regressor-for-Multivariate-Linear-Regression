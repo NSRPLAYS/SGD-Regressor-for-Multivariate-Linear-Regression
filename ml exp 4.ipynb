{
 "cells": [
  {
   "cell_type": "code",
   "execution_count": 1,
   "id": "b9aa6d06",
   "metadata": {},
   "outputs": [
    {
     "name": "stdout",
     "output_type": "stream",
     "text": [
      "Mean Square Error: 2.5549163162505844\n",
      "\n",
      "Predictions:\n",
      " [[ 1.05302964 35.69097812]\n",
      " [ 1.5241901  35.71323997]\n",
      " [ 2.30249953 35.60817954]\n",
      " [ 2.67950381 35.42320201]\n",
      " [ 2.11489909 35.65241624]]\n"
     ]
    }
   ],
   "source": [
    "import numpy as np\n",
    "from sklearn.datasets import fetch_california_housing\n",
    "from sklearn.linear_model import SGDRegressor\n",
    "from sklearn.multioutput import MultiOutputRegressor\n",
    "from sklearn.model_selection import train_test_split\n",
    "from sklearn.metrics import mean_squared_error\n",
    "from sklearn.preprocessing import StandardScaler\n",
    "data=fetch_california_housing()\n",
    "X=data.data[:,:3]\n",
    "Y=np.column_stack((data.target,data.data[:,6]))\n",
    "X_train,X_test,Y_train,Y_test=train_test_split(X,Y,test_size=0.2,random_state=42)\n",
    "scaler_X=StandardScaler()\n",
    "scaler_Y=StandardScaler()\n",
    "X_train =scaler_X.fit_transform(X_train)\n",
    "X_test=scaler_X.transform(X_test)\n",
    "Y_train=scaler_Y.fit_transform(Y_train)\n",
    "Y_test=scaler_Y.transform(Y_test)\n",
    "sgd=SGDRegressor(max_iter=1000, tol=1e-3)\n",
    "multi_output_sgd=MultiOutputRegressor(sgd)\n",
    "multi_output_sgd.fit(X_train,Y_train)\n",
    "Y_pred=multi_output_sgd.predict(X_test)\n",
    "Y_pred=scaler_Y.inverse_transform(Y_pred)\n",
    "Y_test=scaler_Y.inverse_transform(Y_test)\n",
    "mse=mean_squared_error(Y_test,Y_pred)\n",
    "print(\"Mean Square Error:\",mse)\n",
    "print(\"\\nPredictions:\\n\",Y_pred[:5])"
   ]
  },
  {
   "cell_type": "code",
   "execution_count": null,
   "id": "3df81353",
   "metadata": {},
   "outputs": [],
   "source": []
  }
 ],
 "metadata": {
  "kernelspec": {
   "display_name": "Python 3 (ipykernel)",
   "language": "python",
   "name": "python3"
  },
  "language_info": {
   "codemirror_mode": {
    "name": "ipython",
    "version": 3
   },
   "file_extension": ".py",
   "mimetype": "text/x-python",
   "name": "python",
   "nbconvert_exporter": "python",
   "pygments_lexer": "ipython3",
   "version": "3.11.3"
  }
 },
 "nbformat": 4,
 "nbformat_minor": 5
}
